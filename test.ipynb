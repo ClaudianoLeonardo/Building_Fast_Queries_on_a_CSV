{
  "nbformat": 4,
  "nbformat_minor": 0,
  "metadata": {
    "colab": {
      "provenance": [],
      "collapsed_sections": []
    },
    "kernelspec": {
      "name": "python3",
      "display_name": "Python 3"
    },
    "language_info": {
      "name": "python"
    }
  },
  "cells": [
    {
      "cell_type": "code",
      "source": [
        "!pip install pytest pytest-sugar"
      ],
      "metadata": {
        "colab": {
          "base_uri": "https://localhost:8080/"
        },
        "id": "i0XgBsMwJg62",
        "outputId": "9558aad8-ee8d-4674-e078-c307b5783561"
      },
      "execution_count": 1,
      "outputs": [
        {
          "output_type": "stream",
          "name": "stdout",
          "text": [
            "Looking in indexes: https://pypi.org/simple, https://us-python.pkg.dev/colab-wheels/public/simple/\n",
            "Requirement already satisfied: pytest in /usr/local/lib/python3.7/dist-packages (3.6.4)\n",
            "Requirement already satisfied: pytest-sugar in /usr/local/lib/python3.7/dist-packages (0.9.5)\n",
            "Requirement already satisfied: pluggy<0.8,>=0.5 in /usr/local/lib/python3.7/dist-packages (from pytest) (0.7.1)\n",
            "Requirement already satisfied: attrs>=17.4.0 in /usr/local/lib/python3.7/dist-packages (from pytest) (22.1.0)\n",
            "Requirement already satisfied: six>=1.10.0 in /usr/local/lib/python3.7/dist-packages (from pytest) (1.15.0)\n",
            "Requirement already satisfied: atomicwrites>=1.0 in /usr/local/lib/python3.7/dist-packages (from pytest) (1.4.1)\n",
            "Requirement already satisfied: more-itertools>=4.0.0 in /usr/local/lib/python3.7/dist-packages (from pytest) (8.14.0)\n",
            "Requirement already satisfied: setuptools in /usr/local/lib/python3.7/dist-packages (from pytest) (57.4.0)\n",
            "Requirement already satisfied: py>=1.5.0 in /usr/local/lib/python3.7/dist-packages (from pytest) (1.11.0)\n",
            "Requirement already satisfied: termcolor>=1.1.0 in /usr/local/lib/python3.7/dist-packages (from pytest-sugar) (2.0.1)\n",
            "Requirement already satisfied: packaging>=14.1 in /usr/local/lib/python3.7/dist-packages (from pytest-sugar) (21.3)\n",
            "Requirement already satisfied: pyparsing!=3.0.5,>=2.0.2 in /usr/local/lib/python3.7/dist-packages (from packaging>=14.1->pytest-sugar) (3.0.9)\n"
          ]
        }
      ]
    },
    {
      "cell_type": "code",
      "execution_count": 2,
      "metadata": {
        "colab": {
          "base_uri": "https://localhost:8080/"
        },
        "id": "x2txubh0v5I2",
        "outputId": "b27a6ea2-aade-4208-acf9-72d408117d8c"
      },
      "outputs": [
        {
          "output_type": "stream",
          "name": "stdout",
          "text": [
            "Drive already mounted at /content/drive; to attempt to forcibly remount, call drive.mount(\"/content/drive\", force_remount=True).\n"
          ]
        }
      ],
      "source": [
        "from google.colab import drive\n",
        "drive.mount('/content/drive')"
      ]
    },
    {
      "cell_type": "code",
      "source": [
        "from csv import reader\n",
        "from time import time\n",
        "import random"
      ],
      "metadata": {
        "id": "K_kGGYrqwE8r"
      },
      "execution_count": 3,
      "outputs": []
    },
    {
      "cell_type": "code",
      "source": [
        "dataset = \"/content/drive/MyDrive/the-reddit-climate-change-dataset-comments.csv\""
      ],
      "metadata": {
        "id": "EspJ5wu1wJGz"
      },
      "execution_count": 4,
      "outputs": []
    },
    {
      "cell_type": "code",
      "source": [
        "%%file test_data.py\n",
        "dataset = \"/content/drive/MyDrive/the-reddit-climate-change-dataset-comments.csv\"\n",
        "import pytest\n",
        "from csv import reader\n",
        "from time import time\n",
        "import random\n",
        "class Clima:\n",
        "  def __init__(self, dataset):\n",
        "    with open(dataset) as f:\n",
        "      self.reader = reader(f)\n",
        "      self.rows = list(self.reader)\n",
        "      self.header = self.rows[0]\n",
        "      self.rows = self.rows[1:]\n",
        "      self.id_to_row = {}\n",
        "      self.sentiment_sorted = {}\n",
        "      self.score = {}\n",
        "      for row in self.rows:\n",
        "        self.id_to_row[row[1]] = row\n",
        "        self.score[int(row[9])] = row\n",
        "        if row[8] == '':\n",
        "          row[8] = 0.0\n",
        "        else:\n",
        "          row[8] = float(row[8])\n",
        "\n",
        "        \n",
        "          \n",
        "  \n",
        "  def get_message_from_id(self, id):\n",
        "    for row in self.rows:\n",
        "      if row[1] == id:\n",
        "        return row\n",
        "      else:\n",
        "        return -1\n",
        "  \n",
        "  def get_message_from_id_fast(self, id):\n",
        "    if id in self.id_to_row:\n",
        "      return self.id_to_row[id]\n",
        "    else:\n",
        "      return -1\n",
        "\n",
        "  \n",
        "  def get_by_sentiment(self, sentiment_inf, sentiment_sup):\n",
        "    sentiments = []\n",
        "    for row in self.rows:\n",
        "      if row[8] >= sentiment_inf and row[8] < sentiment_sup:\n",
        "         sentiments.append(row)\n",
        "    return sentiments\n",
        "    \n",
        "\n",
        "\n",
        "  def TwoScoreSum(self, target):\n",
        "    for row1 in self.rows:\n",
        "      for row2 in self.rows:\n",
        "        if int(row1[9]) + int(row2[9]) == target:\n",
        "          return [row1, row2]\n",
        "    return -1\n",
        "\n",
        "  def TwoScoreSum_fast(self, target):\n",
        "    for current_number in self.score:\n",
        "      y = target - current_number\n",
        "      if y in self.score:\n",
        "        return [self.score[y], self.score[current_number]]\n",
        "    return -1\n",
        "\n",
        "@pytest.fixture(scope=\"session\")\n",
        "def data():\n",
        "  clima = Clima(dataset)\n",
        "  return clima\n",
        "def test_get_from_id_fast(data):\n",
        "  assert data.get_message_from_id_fast('imlddn9') == ['comment',\n",
        " 'imlddn9',\n",
        " '2qh3l',\n",
        " 'news',\n",
        " 'false',\n",
        " '1661990368',\n",
        " 'https://old.reddit.com/r/news/comments/x2cszk/us_life_expectancy_down_for_secondstraight_year/imlddn9/',\n",
        " 'Yeah but what the above commenter is saying is their base doesn’t want any of that. They detest all of those things, even the small gradual changes. Investing in nuclear energy is a tacit acknowledgement of man made climate change. Any acknowledgement or concession and they will be primaried out in a minute',\n",
        " 0.5719,\n",
        " '2']\n",
        "\n",
        "def test_get_from_id(data):\n",
        "   assert data.get_message_from_id('imlddn9') == ['comment',\n",
        " 'imlddn9',\n",
        " '2qh3l',\n",
        " 'news',\n",
        " 'false',\n",
        " '1661990368',\n",
        " 'https://old.reddit.com/r/news/comments/x2cszk/us_life_expectancy_down_for_secondstraight_year/imlddn9/',\n",
        " 'Yeah but what the above commenter is saying is their base doesn’t want any of that. They detest all of those things, even the small gradual changes. Investing in nuclear energy is a tacit acknowledgement of man made climate change. Any acknowledgement or concession and they will be primaried out in a minute',\n",
        " 0.5719,\n",
        " '2']\n",
        "\n",
        "def test_get_by_sentiment(data):\n",
        "    assert len(data.get_by_sentiment(0.64,0.68)) == 77172\n",
        "\n",
        "def test_TwoScoreSum(data):\n",
        "  assert data.TwoScoreSum(25) == [['comment',\n",
        "  'imlddn9',\n",
        "  '2qh3l',\n",
        "  'news',\n",
        "  'false',\n",
        "  '1661990368',\n",
        "  'https://old.reddit.com/r/news/comments/x2cszk/us_life_expectancy_down_for_secondstraight_year/imlddn9/',\n",
        "  'Yeah but what the above commenter is saying is their base doesn’t want any of that. They detest all of those things, even the small gradual changes. Investing in nuclear energy is a tacit acknowledgement of man made climate change. Any acknowledgement or concession and they will be primaried out in a minute',\n",
        "  0.5719,\n",
        "  '2'],\n",
        " ['comment',\n",
        "  'iml4a75',\n",
        "  '31t41',\n",
        "  'suggestmeabook',\n",
        "  'false',\n",
        "  '1661986358',\n",
        "  'https://old.reddit.com/r/suggestmeabook/comments/x2ew2d/because_im_dumb_please_suggest_me_anything_that/iml4a75/',\n",
        "  'The Intergovernmental Panel on Climate Change (IPCC) provide executive summaries of all their reports, with the idea of making the language simple and understandable. \\n\\nThey are completely objective, and the only people questioning their objectivity are those with vested interests themselves. \\n\\nhttps://www.ipcc.ch/report/ar6/wg2/downloads/report/IPCC_AR6_WGII_SummaryForPolicymakers.pdf',\n",
        "  0.296,\n",
        "  '23']]\n",
        "\n",
        "def test_TwoScoreSum_fast(data):\n",
        "  assert data.TwoScoreSum_fast(25) == [['comment',\n",
        "  'c0mvyui',\n",
        "  '2qj8f',\n",
        "  'skeptic',\n",
        "  'false',\n",
        "  '1269542958',\n",
        "  'https://old.reddit.com/r/skeptic/comments/bi7mu/are_there_any_redditors_on_rskeptic_who_dont/c0mvyui/',\n",
        "  'I think the anthropogenic global warming/climate change issue is taken all wrong. When you take either side of the argument, you\\'re stuck arguing scientific facts from studies that can be interpreted different ways, and then getting into political debates etc...it isn\\'t a very productive debate to have.\\n\\nI think the better way to handle the situation is to make the argument for being more \"green\" because it means expending less energy. This, in turns, means spending less money on energy. Switching to a more fuel efficient vehicle makes financial sense because it will cost you less in gas. This is something much less politically charged, and much more persuasive. You can then throw in the \"And while you\\'re saving money, you can also put less pollution into the world\".\\n\\nOr am I just crazy?',\n",
        "  -0.7506,\n",
        "  '23'],\n",
        " ['comment',\n",
        "  'c0i28hb',\n",
        "  '2qh1n',\n",
        "  'environment',\n",
        "  'false',\n",
        "  '1262383373',\n",
        "  'https://old.reddit.com/r/environment/comments/akl0m/is_the_airborne_fraction_of_anthropogenic_co2/c0i28hb/',\n",
        "  'No one truly knows what\\'s going on, but for a while there, I was thinking, \"Duh, hello, of course it\\'s us.\"  Some information I\\'ve seen recently leads me to wonder.  Also, the amount of CO2 we pump into the air is great already and has not really changed year to year.  Why the sudden, accelerated climb?  Is the \"feedback loop\" really taking hold so quickly?  Did we just have to get it to a certain point and now it will skyrocket?  I see posts on reddit every other week about some finding or another that says warming is happening even faster than previously thought.  \\n\\nSomething else that has me wondering:\\n\\nPeople talk about the methane being released by creatures trapped under what should be permafrost, which is now melting.  What was going on with the climate when it was warm enough for those creatures to be alive and thriving in their environments?\\n\\nI\\'m also not trying to say climate change and global warming aren\\'t happening, and that the results won\\'t be catastrophic, but I just wonder about the answers to some of these questions.',\n",
        "  0.9366,\n",
        "  '2']]\n"
      ],
      "metadata": {
        "colab": {
          "base_uri": "https://localhost:8080/"
        },
        "id": "QqOEDdjGwukB",
        "outputId": "ebfa76eb-7ebb-4258-d34c-abc287ae36fb"
      },
      "execution_count": 5,
      "outputs": [
        {
          "output_type": "stream",
          "name": "stdout",
          "text": [
            "Overwriting test_data.py\n"
          ]
        }
      ]
    },
    {
      "cell_type": "code",
      "source": [
        "!pytest . -vv"
      ],
      "metadata": {
        "colab": {
          "base_uri": "https://localhost:8080/"
        },
        "id": "ljrJLEdfHk37",
        "outputId": "e4d0523b-c932-41e1-c3a9-a7602dfc86e5"
      },
      "execution_count": 6,
      "outputs": [
        {
          "output_type": "stream",
          "name": "stdout",
          "text": [
            "\u001b[1mTest session starts (platform: linux, Python 3.7.14, pytest 3.6.4, pytest-sugar 0.9.5)\u001b[0m\n",
            "cachedir: .pytest_cache\n",
            "rootdir: /content, inifile:\n",
            "plugins: typeguard-2.7.1, sugar-0.9.5\n",
            "\n",
            " \u001b[36mtest_data.py\u001b[0m::test_get_from_id_fast\u001b[0m \u001b[32m✓\u001b[0m                            \u001b[32m20% \u001b[0m\u001b[40m\u001b[32m█\u001b[0m\u001b[40m\u001b[32m█        \u001b[0m\n",
            " \u001b[36mtest_data.py\u001b[0m::test_get_from_id\u001b[0m \u001b[32m✓\u001b[0m                                 \u001b[32m40% \u001b[0m\u001b[40m\u001b[32m█\u001b[0m\u001b[40m\u001b[32m█\u001b[0m\u001b[40m\u001b[32m█\u001b[0m\u001b[40m\u001b[32m█      \u001b[0m\n",
            " \u001b[36mtest_data.py\u001b[0m::test_get_by_sentiment\u001b[0m \u001b[32m✓\u001b[0m                            \u001b[32m60% \u001b[0m\u001b[40m\u001b[32m█\u001b[0m\u001b[40m\u001b[32m█\u001b[0m\u001b[40m\u001b[32m█\u001b[0m\u001b[40m\u001b[32m█\u001b[0m\u001b[40m\u001b[32m█\u001b[0m\u001b[40m\u001b[32m█    \u001b[0m\n",
            " \u001b[36mtest_data.py\u001b[0m::test_TwoScoreSum\u001b[0m \u001b[32m✓\u001b[0m                                 \u001b[32m80% \u001b[0m\u001b[40m\u001b[32m█\u001b[0m\u001b[40m\u001b[32m█\u001b[0m\u001b[40m\u001b[32m█\u001b[0m\u001b[40m\u001b[32m█\u001b[0m\u001b[40m\u001b[32m█\u001b[0m\u001b[40m\u001b[32m█\u001b[0m\u001b[40m\u001b[32m█\u001b[0m\u001b[40m\u001b[32m█  \u001b[0m\n",
            " \u001b[36mtest_data.py\u001b[0m::test_TwoScoreSum_fast\u001b[0m \u001b[32m✓\u001b[0m                           \u001b[32m100% \u001b[0m\u001b[40m\u001b[32m█\u001b[0m\u001b[40m\u001b[32m█\u001b[0m\u001b[40m\u001b[32m█\u001b[0m\u001b[40m\u001b[32m█\u001b[0m\u001b[40m\u001b[32m█\u001b[0m\u001b[40m\u001b[32m█\u001b[0m\u001b[40m\u001b[32m█\u001b[0m\u001b[40m\u001b[32m█\u001b[0m\u001b[40m\u001b[32m█\u001b[0m\u001b[40m\u001b[32m█\u001b[0m\n",
            "\n",
            "Results (125.20s):\n",
            "\u001b[32m       5 passed\u001b[0m\n"
          ]
        }
      ]
    }
  ]
}