{
  "nbformat": 4,
  "nbformat_minor": 0,
  "metadata": {
    "colab": {
      "provenance": [],
      "collapsed_sections": []
    },
    "kernelspec": {
      "name": "python3",
      "display_name": "Python 3"
    },
    "language_info": {
      "name": "python"
    }
  },
  "cells": [
    {
      "cell_type": "code",
      "source": [
        "from csv import reader\n",
        "from time import time\n",
        "import random"
      ],
      "metadata": {
        "id": "lzqQfZym0x_k"
      },
      "execution_count": 2,
      "outputs": []
    },
    {
      "cell_type": "code",
      "source": [
        "dataset = \"/content/drive/MyDrive/the-reddit-climate-change-dataset-comments.csv\""
      ],
      "metadata": {
        "id": "Fj5vgLpY1dx8"
      },
      "execution_count": 3,
      "outputs": []
    },
    {
      "cell_type": "code",
      "source": [
        "\n",
        "class Clima:\n",
        "  def __init__(self, dataset):\n",
        "    with open(dataset) as f:\n",
        "      self.reader = reader(f)\n",
        "      self.rows = list(self.reader)\n",
        "      self.header = self.rows[0]\n",
        "      self.rows = self.rows[1:]\n",
        "      self.id_to_row = {}\n",
        "      self.sentiment_sorted = {}\n",
        "      self.score = {}\n",
        "      for row in self.rows:\n",
        "        self.id_to_row[row[1]] = row\n",
        "        self.score[int(row[9])] = row\n",
        "        if row[8] == '':\n",
        "          row[8] = 0.0\n",
        "        else:\n",
        "          row[8] = float(row[8])\n",
        "\n",
        "        \n",
        "          \n",
        "  \n",
        "  def get_message_from_id(self, id):\n",
        "    for row in self.rows:\n",
        "      if row[1] == id:\n",
        "        return row\n",
        "      else:\n",
        "        return -1\n",
        "  \n",
        "  def get_message_from_id_fast(self, id):\n",
        "    if id in self.id_to_row:\n",
        "      return self.id_to_row[id]\n",
        "    else:\n",
        "      return -1\n",
        "\n",
        "  \n",
        "  def get_by_sentiment(self, sentiment_inf, sentiment_sup):\n",
        "    sentiments = []\n",
        "    for row in self.rows:\n",
        "      if row[8] >= sentiment_inf and row[8] < sentiment_sup:\n",
        "         sentiments.append(row)\n",
        "    return sentiments\n",
        "    \n",
        "\n",
        "\n",
        "\n",
        "  def TwoScoreSum(self, target):\n",
        "    for row1 in self.rows:\n",
        "      for row2 in self.rows:\n",
        "        if row1[9] + row2[9] == target:\n",
        "          return [row1, row2]\n",
        "        return -1\n",
        "\n",
        "  def TwoScoreSum_fast(self, target):\n",
        "    for current_number in self.score:\n",
        "      y = target - current_number\n",
        "      if y in self.score:\n",
        "        return [self.score[y], self.score[current_number]]\n",
        "    return -1\n",
        "\n",
        "\n",
        "\n",
        "\n",
        "\n",
        "  \n",
        "\n",
        "  \n",
        "\n",
        "\n",
        "\n",
        "\n",
        "\n",
        "    \n",
        "    \n",
        "\n",
        "\n",
        "\n",
        "\n",
        "\n"
      ],
      "metadata": {
        "id": "90pqY1Dy3Iwl"
      },
      "execution_count": 4,
      "outputs": []
    },
    {
      "cell_type": "code",
      "source": [
        "clima = Clima(dataset)"
      ],
      "metadata": {
        "id": "jBu3HjErJXi-"
      },
      "execution_count": 5,
      "outputs": []
    },
    {
      "cell_type": "code",
      "source": [
        "clima.get_message_from_id_fast('imlddn9')"
      ],
      "metadata": {
        "colab": {
          "base_uri": "https://localhost:8080/"
        },
        "id": "U8-FFi080q_5",
        "outputId": "a30f13da-44d9-4d22-d3a4-5f7f91b4138b"
      },
      "execution_count": 6,
      "outputs": [
        {
          "output_type": "execute_result",
          "data": {
            "text/plain": [
              "['comment',\n",
              " 'imlddn9',\n",
              " '2qh3l',\n",
              " 'news',\n",
              " 'false',\n",
              " '1661990368',\n",
              " 'https://old.reddit.com/r/news/comments/x2cszk/us_life_expectancy_down_for_secondstraight_year/imlddn9/',\n",
              " 'Yeah but what the above commenter is saying is their base doesn’t want any of that. They detest all of those things, even the small gradual changes. Investing in nuclear energy is a tacit acknowledgement of man made climate change. Any acknowledgement or concession and they will be primaried out in a minute',\n",
              " 0.5719,\n",
              " '2']"
            ]
          },
          "metadata": {},
          "execution_count": 6
        }
      ]
    },
    {
      "cell_type": "code",
      "source": [
        "test = clima.get_by_sentiment(0.64, 0.68)\n",
        "len(test)"
      ],
      "metadata": {
        "colab": {
          "base_uri": "https://localhost:8080/"
        },
        "id": "aXi5dJSV1BeF",
        "outputId": "5d752083-0404-42f2-f693-dee405530bb4"
      },
      "execution_count": 7,
      "outputs": [
        {
          "output_type": "execute_result",
          "data": {
            "text/plain": [
              "77172"
            ]
          },
          "metadata": {},
          "execution_count": 7
        }
      ]
    },
    {
      "cell_type": "code",
      "source": [
        "clima.TwoScoreSum_fast(25)"
      ],
      "metadata": {
        "colab": {
          "base_uri": "https://localhost:8080/"
        },
        "id": "TtiKeJXq4KQ8",
        "outputId": "11aa6b56-99fd-43c3-fa20-5c44a2786547"
      },
      "execution_count": 8,
      "outputs": [
        {
          "output_type": "execute_result",
          "data": {
            "text/plain": [
              "[['comment',\n",
              "  'c0mvyui',\n",
              "  '2qj8f',\n",
              "  'skeptic',\n",
              "  'false',\n",
              "  '1269542958',\n",
              "  'https://old.reddit.com/r/skeptic/comments/bi7mu/are_there_any_redditors_on_rskeptic_who_dont/c0mvyui/',\n",
              "  'I think the anthropogenic global warming/climate change issue is taken all wrong. When you take either side of the argument, you\\'re stuck arguing scientific facts from studies that can be interpreted different ways, and then getting into political debates etc...it isn\\'t a very productive debate to have.\\n\\nI think the better way to handle the situation is to make the argument for being more \"green\" because it means expending less energy. This, in turns, means spending less money on energy. Switching to a more fuel efficient vehicle makes financial sense because it will cost you less in gas. This is something much less politically charged, and much more persuasive. You can then throw in the \"And while you\\'re saving money, you can also put less pollution into the world\".\\n\\nOr am I just crazy?',\n",
              "  -0.7506,\n",
              "  '23'],\n",
              " ['comment',\n",
              "  'c0i28hb',\n",
              "  '2qh1n',\n",
              "  'environment',\n",
              "  'false',\n",
              "  '1262383373',\n",
              "  'https://old.reddit.com/r/environment/comments/akl0m/is_the_airborne_fraction_of_anthropogenic_co2/c0i28hb/',\n",
              "  'No one truly knows what\\'s going on, but for a while there, I was thinking, \"Duh, hello, of course it\\'s us.\"  Some information I\\'ve seen recently leads me to wonder.  Also, the amount of CO2 we pump into the air is great already and has not really changed year to year.  Why the sudden, accelerated climb?  Is the \"feedback loop\" really taking hold so quickly?  Did we just have to get it to a certain point and now it will skyrocket?  I see posts on reddit every other week about some finding or another that says warming is happening even faster than previously thought.  \\n\\nSomething else that has me wondering:\\n\\nPeople talk about the methane being released by creatures trapped under what should be permafrost, which is now melting.  What was going on with the climate when it was warm enough for those creatures to be alive and thriving in their environments?\\n\\nI\\'m also not trying to say climate change and global warming aren\\'t happening, and that the results won\\'t be catastrophic, but I just wonder about the answers to some of these questions.',\n",
              "  0.9366,\n",
              "  '2']]"
            ]
          },
          "metadata": {},
          "execution_count": 8
        }
      ]
    },
    {
      "cell_type": "markdown",
      "source": [
        "# Comparando desempenho das funções:"
      ],
      "metadata": {
        "id": "5I2jgc_PBJFa"
      }
    },
    {
      "cell_type": "code",
      "source": [
        "ids = [random.randint(0, 100) for _ in range(100)]"
      ],
      "metadata": {
        "id": "IqcHl_XOBa4Y"
      },
      "execution_count": 9,
      "outputs": []
    },
    {
      "cell_type": "code",
      "source": [
        "for id in ids:\n",
        "  %timeit -n 1000 clima.get_message_from_id(id)"
      ],
      "metadata": {
        "colab": {
          "base_uri": "https://localhost:8080/"
        },
        "id": "wzz5AlofCM0a",
        "outputId": "38063222-2fc0-46cc-d46d-0f5b90a838d1"
      },
      "execution_count": 10,
      "outputs": [
        {
          "output_type": "stream",
          "name": "stdout",
          "text": [
            "502 ns ± 5.78 ns per loop (mean ± std. dev. of 7 runs, 1000 loops each)\n",
            "506 ns ± 13.5 ns per loop (mean ± std. dev. of 7 runs, 1000 loops each)\n",
            "516 ns ± 15.3 ns per loop (mean ± std. dev. of 7 runs, 1000 loops each)\n",
            "499 ns ± 4.98 ns per loop (mean ± std. dev. of 7 runs, 1000 loops each)\n",
            "500 ns ± 6.03 ns per loop (mean ± std. dev. of 7 runs, 1000 loops each)\n",
            "498 ns ± 16.5 ns per loop (mean ± std. dev. of 7 runs, 1000 loops each)\n",
            "505 ns ± 7.09 ns per loop (mean ± std. dev. of 7 runs, 1000 loops each)\n",
            "508 ns ± 10.2 ns per loop (mean ± std. dev. of 7 runs, 1000 loops each)\n",
            "462 ns ± 55.1 ns per loop (mean ± std. dev. of 7 runs, 1000 loops each)\n",
            "431 ns ± 25.6 ns per loop (mean ± std. dev. of 7 runs, 1000 loops each)\n",
            "455 ns ± 23.3 ns per loop (mean ± std. dev. of 7 runs, 1000 loops each)\n",
            "455 ns ± 15 ns per loop (mean ± std. dev. of 7 runs, 1000 loops each)\n",
            "450 ns ± 21.1 ns per loop (mean ± std. dev. of 7 runs, 1000 loops each)\n",
            "472 ns ± 10.7 ns per loop (mean ± std. dev. of 7 runs, 1000 loops each)\n",
            "476 ns ± 16.5 ns per loop (mean ± std. dev. of 7 runs, 1000 loops each)\n",
            "485 ns ± 22.9 ns per loop (mean ± std. dev. of 7 runs, 1000 loops each)\n",
            "481 ns ± 8.85 ns per loop (mean ± std. dev. of 7 runs, 1000 loops each)\n",
            "450 ns ± 33.9 ns per loop (mean ± std. dev. of 7 runs, 1000 loops each)\n",
            "454 ns ± 25.5 ns per loop (mean ± std. dev. of 7 runs, 1000 loops each)\n",
            "The slowest run took 9.37 times longer than the fastest. This could mean that an intermediate result is being cached.\n",
            "933 ns ± 1.2 µs per loop (mean ± std. dev. of 7 runs, 1000 loops each)\n",
            "499 ns ± 13.3 ns per loop (mean ± std. dev. of 7 runs, 1000 loops each)\n",
            "495 ns ± 26.3 ns per loop (mean ± std. dev. of 7 runs, 1000 loops each)\n",
            "467 ns ± 50 ns per loop (mean ± std. dev. of 7 runs, 1000 loops each)\n",
            "644 ns ± 330 ns per loop (mean ± std. dev. of 7 runs, 1000 loops each)\n",
            "469 ns ± 26.7 ns per loop (mean ± std. dev. of 7 runs, 1000 loops each)\n",
            "453 ns ± 11.3 ns per loop (mean ± std. dev. of 7 runs, 1000 loops each)\n",
            "523 ns ± 157 ns per loop (mean ± std. dev. of 7 runs, 1000 loops each)\n",
            "479 ns ± 10.6 ns per loop (mean ± std. dev. of 7 runs, 1000 loops each)\n",
            "486 ns ± 20.9 ns per loop (mean ± std. dev. of 7 runs, 1000 loops each)\n",
            "468 ns ± 18.9 ns per loop (mean ± std. dev. of 7 runs, 1000 loops each)\n",
            "480 ns ± 20.6 ns per loop (mean ± std. dev. of 7 runs, 1000 loops each)\n",
            "500 ns ± 19.7 ns per loop (mean ± std. dev. of 7 runs, 1000 loops each)\n",
            "461 ns ± 20.5 ns per loop (mean ± std. dev. of 7 runs, 1000 loops each)\n",
            "465 ns ± 15.4 ns per loop (mean ± std. dev. of 7 runs, 1000 loops each)\n",
            "684 ns ± 378 ns per loop (mean ± std. dev. of 7 runs, 1000 loops each)\n",
            "472 ns ± 29.6 ns per loop (mean ± std. dev. of 7 runs, 1000 loops each)\n",
            "443 ns ± 26.3 ns per loop (mean ± std. dev. of 7 runs, 1000 loops each)\n",
            "476 ns ± 17.8 ns per loop (mean ± std. dev. of 7 runs, 1000 loops each)\n",
            "474 ns ± 8.99 ns per loop (mean ± std. dev. of 7 runs, 1000 loops each)\n",
            "251 ns ± 4.3 ns per loop (mean ± std. dev. of 7 runs, 1000 loops each)\n",
            "258 ns ± 13.6 ns per loop (mean ± std. dev. of 7 runs, 1000 loops each)\n",
            "254 ns ± 4.81 ns per loop (mean ± std. dev. of 7 runs, 1000 loops each)\n",
            "257 ns ± 7.57 ns per loop (mean ± std. dev. of 7 runs, 1000 loops each)\n",
            "252 ns ± 2.72 ns per loop (mean ± std. dev. of 7 runs, 1000 loops each)\n",
            "256 ns ± 7.46 ns per loop (mean ± std. dev. of 7 runs, 1000 loops each)\n",
            "253 ns ± 3.36 ns per loop (mean ± std. dev. of 7 runs, 1000 loops each)\n",
            "256 ns ± 4.98 ns per loop (mean ± std. dev. of 7 runs, 1000 loops each)\n",
            "255 ns ± 4.77 ns per loop (mean ± std. dev. of 7 runs, 1000 loops each)\n",
            "255 ns ± 4.98 ns per loop (mean ± std. dev. of 7 runs, 1000 loops each)\n",
            "255 ns ± 9.87 ns per loop (mean ± std. dev. of 7 runs, 1000 loops each)\n",
            "267 ns ± 25.7 ns per loop (mean ± std. dev. of 7 runs, 1000 loops each)\n",
            "253 ns ± 7.22 ns per loop (mean ± std. dev. of 7 runs, 1000 loops each)\n",
            "255 ns ± 5 ns per loop (mean ± std. dev. of 7 runs, 1000 loops each)\n",
            "254 ns ± 6.05 ns per loop (mean ± std. dev. of 7 runs, 1000 loops each)\n",
            "255 ns ± 4.32 ns per loop (mean ± std. dev. of 7 runs, 1000 loops each)\n",
            "254 ns ± 7.86 ns per loop (mean ± std. dev. of 7 runs, 1000 loops each)\n",
            "254 ns ± 3.26 ns per loop (mean ± std. dev. of 7 runs, 1000 loops each)\n",
            "250 ns ± 3.73 ns per loop (mean ± std. dev. of 7 runs, 1000 loops each)\n",
            "254 ns ± 4.35 ns per loop (mean ± std. dev. of 7 runs, 1000 loops each)\n",
            "262 ns ± 19 ns per loop (mean ± std. dev. of 7 runs, 1000 loops each)\n",
            "255 ns ± 4.19 ns per loop (mean ± std. dev. of 7 runs, 1000 loops each)\n",
            "253 ns ± 5.8 ns per loop (mean ± std. dev. of 7 runs, 1000 loops each)\n",
            "252 ns ± 3.03 ns per loop (mean ± std. dev. of 7 runs, 1000 loops each)\n",
            "254 ns ± 3.16 ns per loop (mean ± std. dev. of 7 runs, 1000 loops each)\n",
            "252 ns ± 7.34 ns per loop (mean ± std. dev. of 7 runs, 1000 loops each)\n",
            "259 ns ± 10.1 ns per loop (mean ± std. dev. of 7 runs, 1000 loops each)\n",
            "252 ns ± 3.81 ns per loop (mean ± std. dev. of 7 runs, 1000 loops each)\n",
            "252 ns ± 4.77 ns per loop (mean ± std. dev. of 7 runs, 1000 loops each)\n",
            "255 ns ± 4.92 ns per loop (mean ± std. dev. of 7 runs, 1000 loops each)\n",
            "256 ns ± 6.82 ns per loop (mean ± std. dev. of 7 runs, 1000 loops each)\n",
            "255 ns ± 3.51 ns per loop (mean ± std. dev. of 7 runs, 1000 loops each)\n",
            "259 ns ± 9.81 ns per loop (mean ± std. dev. of 7 runs, 1000 loops each)\n",
            "254 ns ± 5.23 ns per loop (mean ± std. dev. of 7 runs, 1000 loops each)\n",
            "255 ns ± 7.84 ns per loop (mean ± std. dev. of 7 runs, 1000 loops each)\n",
            "255 ns ± 5.64 ns per loop (mean ± std. dev. of 7 runs, 1000 loops each)\n",
            "255 ns ± 4.95 ns per loop (mean ± std. dev. of 7 runs, 1000 loops each)\n",
            "252 ns ± 3.54 ns per loop (mean ± std. dev. of 7 runs, 1000 loops each)\n",
            "293 ns ± 77 ns per loop (mean ± std. dev. of 7 runs, 1000 loops each)\n",
            "263 ns ± 20.7 ns per loop (mean ± std. dev. of 7 runs, 1000 loops each)\n",
            "256 ns ± 4.79 ns per loop (mean ± std. dev. of 7 runs, 1000 loops each)\n",
            "380 ns ± 92.9 ns per loop (mean ± std. dev. of 7 runs, 1000 loops each)\n",
            "371 ns ± 73.3 ns per loop (mean ± std. dev. of 7 runs, 1000 loops each)\n",
            "317 ns ± 73.5 ns per loop (mean ± std. dev. of 7 runs, 1000 loops each)\n",
            "255 ns ± 6.37 ns per loop (mean ± std. dev. of 7 runs, 1000 loops each)\n",
            "256 ns ± 6.36 ns per loop (mean ± std. dev. of 7 runs, 1000 loops each)\n",
            "251 ns ± 3.57 ns per loop (mean ± std. dev. of 7 runs, 1000 loops each)\n",
            "248 ns ± 10.5 ns per loop (mean ± std. dev. of 7 runs, 1000 loops each)\n",
            "254 ns ± 4.73 ns per loop (mean ± std. dev. of 7 runs, 1000 loops each)\n",
            "250 ns ± 3.52 ns per loop (mean ± std. dev. of 7 runs, 1000 loops each)\n",
            "252 ns ± 2.94 ns per loop (mean ± std. dev. of 7 runs, 1000 loops each)\n",
            "256 ns ± 4.4 ns per loop (mean ± std. dev. of 7 runs, 1000 loops each)\n",
            "252 ns ± 4.06 ns per loop (mean ± std. dev. of 7 runs, 1000 loops each)\n",
            "258 ns ± 14.6 ns per loop (mean ± std. dev. of 7 runs, 1000 loops each)\n",
            "252 ns ± 3.72 ns per loop (mean ± std. dev. of 7 runs, 1000 loops each)\n",
            "258 ns ± 13.4 ns per loop (mean ± std. dev. of 7 runs, 1000 loops each)\n",
            "255 ns ± 4.86 ns per loop (mean ± std. dev. of 7 runs, 1000 loops each)\n",
            "273 ns ± 38.7 ns per loop (mean ± std. dev. of 7 runs, 1000 loops each)\n",
            "The slowest run took 4.16 times longer than the fastest. This could mean that an intermediate result is being cached.\n",
            "639 ns ± 453 ns per loop (mean ± std. dev. of 7 runs, 1000 loops each)\n",
            "255 ns ± 11.3 ns per loop (mean ± std. dev. of 7 runs, 1000 loops each)\n",
            "258 ns ± 10.6 ns per loop (mean ± std. dev. of 7 runs, 1000 loops each)\n"
          ]
        }
      ]
    },
    {
      "cell_type": "code",
      "source": [
        "for id in ids:\n",
        "   %timeit -n 1000 clima.get_message_from_id_fast(id)"
      ],
      "metadata": {
        "colab": {
          "base_uri": "https://localhost:8080/"
        },
        "id": "Hd-jW9mqCOo1",
        "outputId": "49202253-615b-445b-87b2-b331000d2cb2"
      },
      "execution_count": 11,
      "outputs": [
        {
          "output_type": "stream",
          "name": "stdout",
          "text": [
            "The slowest run took 5.00 times longer than the fastest. This could mean that an intermediate result is being cached.\n",
            "890 ns ± 469 ns per loop (mean ± std. dev. of 7 runs, 1000 loops each)\n",
            "The slowest run took 7.15 times longer than the fastest. This could mean that an intermediate result is being cached.\n",
            "398 ns ± 391 ns per loop (mean ± std. dev. of 7 runs, 1000 loops each)\n",
            "189 ns ± 9.63 ns per loop (mean ± std. dev. of 7 runs, 1000 loops each)\n",
            "181 ns ± 2.39 ns per loop (mean ± std. dev. of 7 runs, 1000 loops each)\n",
            "189 ns ± 3.26 ns per loop (mean ± std. dev. of 7 runs, 1000 loops each)\n",
            "187 ns ± 11 ns per loop (mean ± std. dev. of 7 runs, 1000 loops each)\n",
            "192 ns ± 3.86 ns per loop (mean ± std. dev. of 7 runs, 1000 loops each)\n",
            "196 ns ± 10.2 ns per loop (mean ± std. dev. of 7 runs, 1000 loops each)\n",
            "184 ns ± 5.55 ns per loop (mean ± std. dev. of 7 runs, 1000 loops each)\n",
            "188 ns ± 3.19 ns per loop (mean ± std. dev. of 7 runs, 1000 loops each)\n",
            "184 ns ± 8.48 ns per loop (mean ± std. dev. of 7 runs, 1000 loops each)\n",
            "183 ns ± 4.38 ns per loop (mean ± std. dev. of 7 runs, 1000 loops each)\n",
            "185 ns ± 4.03 ns per loop (mean ± std. dev. of 7 runs, 1000 loops each)\n",
            "185 ns ± 3.61 ns per loop (mean ± std. dev. of 7 runs, 1000 loops each)\n",
            "217 ns ± 4.31 ns per loop (mean ± std. dev. of 7 runs, 1000 loops each)\n",
            "189 ns ± 5.22 ns per loop (mean ± std. dev. of 7 runs, 1000 loops each)\n",
            "182 ns ± 3.03 ns per loop (mean ± std. dev. of 7 runs, 1000 loops each)\n",
            "196 ns ± 35.6 ns per loop (mean ± std. dev. of 7 runs, 1000 loops each)\n",
            "294 ns ± 72 ns per loop (mean ± std. dev. of 7 runs, 1000 loops each)\n",
            "The slowest run took 17.79 times longer than the fastest. This could mean that an intermediate result is being cached.\n",
            "712 ns ± 1.04 µs per loop (mean ± std. dev. of 7 runs, 1000 loops each)\n",
            "The slowest run took 7.80 times longer than the fastest. This could mean that an intermediate result is being cached.\n",
            "594 ns ± 611 ns per loop (mean ± std. dev. of 7 runs, 1000 loops each)\n",
            "355 ns ± 170 ns per loop (mean ± std. dev. of 7 runs, 1000 loops each)\n",
            "193 ns ± 16.8 ns per loop (mean ± std. dev. of 7 runs, 1000 loops each)\n",
            "195 ns ± 10.3 ns per loop (mean ± std. dev. of 7 runs, 1000 loops each)\n",
            "189 ns ± 4.59 ns per loop (mean ± std. dev. of 7 runs, 1000 loops each)\n",
            "181 ns ± 5.09 ns per loop (mean ± std. dev. of 7 runs, 1000 loops each)\n",
            "184 ns ± 5.53 ns per loop (mean ± std. dev. of 7 runs, 1000 loops each)\n",
            "196 ns ± 18.1 ns per loop (mean ± std. dev. of 7 runs, 1000 loops each)\n",
            "184 ns ± 6.91 ns per loop (mean ± std. dev. of 7 runs, 1000 loops each)\n",
            "186 ns ± 11.2 ns per loop (mean ± std. dev. of 7 runs, 1000 loops each)\n",
            "192 ns ± 4.33 ns per loop (mean ± std. dev. of 7 runs, 1000 loops each)\n",
            "182 ns ± 5.44 ns per loop (mean ± std. dev. of 7 runs, 1000 loops each)\n",
            "181 ns ± 4.91 ns per loop (mean ± std. dev. of 7 runs, 1000 loops each)\n",
            "185 ns ± 6.04 ns per loop (mean ± std. dev. of 7 runs, 1000 loops each)\n",
            "201 ns ± 25.6 ns per loop (mean ± std. dev. of 7 runs, 1000 loops each)\n",
            "184 ns ± 7.16 ns per loop (mean ± std. dev. of 7 runs, 1000 loops each)\n",
            "197 ns ± 7.87 ns per loop (mean ± std. dev. of 7 runs, 1000 loops each)\n",
            "182 ns ± 4.38 ns per loop (mean ± std. dev. of 7 runs, 1000 loops each)\n",
            "181 ns ± 4.3 ns per loop (mean ± std. dev. of 7 runs, 1000 loops each)\n",
            "192 ns ± 5.51 ns per loop (mean ± std. dev. of 7 runs, 1000 loops each)\n",
            "188 ns ± 8.18 ns per loop (mean ± std. dev. of 7 runs, 1000 loops each)\n",
            "185 ns ± 12.5 ns per loop (mean ± std. dev. of 7 runs, 1000 loops each)\n",
            "183 ns ± 7.63 ns per loop (mean ± std. dev. of 7 runs, 1000 loops each)\n",
            "194 ns ± 3.88 ns per loop (mean ± std. dev. of 7 runs, 1000 loops each)\n",
            "188 ns ± 3.94 ns per loop (mean ± std. dev. of 7 runs, 1000 loops each)\n",
            "181 ns ± 5.6 ns per loop (mean ± std. dev. of 7 runs, 1000 loops each)\n",
            "195 ns ± 5.72 ns per loop (mean ± std. dev. of 7 runs, 1000 loops each)\n",
            "193 ns ± 10.5 ns per loop (mean ± std. dev. of 7 runs, 1000 loops each)\n",
            "183 ns ± 7.55 ns per loop (mean ± std. dev. of 7 runs, 1000 loops each)\n",
            "195 ns ± 13 ns per loop (mean ± std. dev. of 7 runs, 1000 loops each)\n",
            "191 ns ± 6.6 ns per loop (mean ± std. dev. of 7 runs, 1000 loops each)\n",
            "184 ns ± 6.07 ns per loop (mean ± std. dev. of 7 runs, 1000 loops each)\n",
            "185 ns ± 6.27 ns per loop (mean ± std. dev. of 7 runs, 1000 loops each)\n",
            "190 ns ± 13.4 ns per loop (mean ± std. dev. of 7 runs, 1000 loops each)\n",
            "200 ns ± 6.88 ns per loop (mean ± std. dev. of 7 runs, 1000 loops each)\n",
            "184 ns ± 7.35 ns per loop (mean ± std. dev. of 7 runs, 1000 loops each)\n",
            "186 ns ± 8.85 ns per loop (mean ± std. dev. of 7 runs, 1000 loops each)\n",
            "187 ns ± 7.82 ns per loop (mean ± std. dev. of 7 runs, 1000 loops each)\n",
            "181 ns ± 5.54 ns per loop (mean ± std. dev. of 7 runs, 1000 loops each)\n",
            "182 ns ± 4.83 ns per loop (mean ± std. dev. of 7 runs, 1000 loops each)\n",
            "181 ns ± 4.32 ns per loop (mean ± std. dev. of 7 runs, 1000 loops each)\n",
            "188 ns ± 4.63 ns per loop (mean ± std. dev. of 7 runs, 1000 loops each)\n",
            "195 ns ± 21.4 ns per loop (mean ± std. dev. of 7 runs, 1000 loops each)\n",
            "195 ns ± 10.5 ns per loop (mean ± std. dev. of 7 runs, 1000 loops each)\n",
            "183 ns ± 6.92 ns per loop (mean ± std. dev. of 7 runs, 1000 loops each)\n",
            "192 ns ± 8.99 ns per loop (mean ± std. dev. of 7 runs, 1000 loops each)\n",
            "188 ns ± 4.09 ns per loop (mean ± std. dev. of 7 runs, 1000 loops each)\n",
            "182 ns ± 9.43 ns per loop (mean ± std. dev. of 7 runs, 1000 loops each)\n",
            "201 ns ± 26.4 ns per loop (mean ± std. dev. of 7 runs, 1000 loops each)\n",
            "185 ns ± 4.29 ns per loop (mean ± std. dev. of 7 runs, 1000 loops each)\n",
            "202 ns ± 11.1 ns per loop (mean ± std. dev. of 7 runs, 1000 loops each)\n",
            "182 ns ± 5.46 ns per loop (mean ± std. dev. of 7 runs, 1000 loops each)\n",
            "184 ns ± 4.27 ns per loop (mean ± std. dev. of 7 runs, 1000 loops each)\n",
            "185 ns ± 4.82 ns per loop (mean ± std. dev. of 7 runs, 1000 loops each)\n",
            "189 ns ± 5.6 ns per loop (mean ± std. dev. of 7 runs, 1000 loops each)\n",
            "185 ns ± 6.11 ns per loop (mean ± std. dev. of 7 runs, 1000 loops each)\n",
            "182 ns ± 5.28 ns per loop (mean ± std. dev. of 7 runs, 1000 loops each)\n",
            "184 ns ± 8.69 ns per loop (mean ± std. dev. of 7 runs, 1000 loops each)\n",
            "183 ns ± 7.95 ns per loop (mean ± std. dev. of 7 runs, 1000 loops each)\n",
            "183 ns ± 7.72 ns per loop (mean ± std. dev. of 7 runs, 1000 loops each)\n",
            "184 ns ± 3.58 ns per loop (mean ± std. dev. of 7 runs, 1000 loops each)\n",
            "190 ns ± 6.11 ns per loop (mean ± std. dev. of 7 runs, 1000 loops each)\n",
            "188 ns ± 4.17 ns per loop (mean ± std. dev. of 7 runs, 1000 loops each)\n",
            "185 ns ± 5.19 ns per loop (mean ± std. dev. of 7 runs, 1000 loops each)\n",
            "195 ns ± 13 ns per loop (mean ± std. dev. of 7 runs, 1000 loops each)\n",
            "195 ns ± 6.91 ns per loop (mean ± std. dev. of 7 runs, 1000 loops each)\n",
            "184 ns ± 8.1 ns per loop (mean ± std. dev. of 7 runs, 1000 loops each)\n",
            "183 ns ± 7.8 ns per loop (mean ± std. dev. of 7 runs, 1000 loops each)\n",
            "194 ns ± 9.77 ns per loop (mean ± std. dev. of 7 runs, 1000 loops each)\n",
            "182 ns ± 4.26 ns per loop (mean ± std. dev. of 7 runs, 1000 loops each)\n",
            "183 ns ± 5.09 ns per loop (mean ± std. dev. of 7 runs, 1000 loops each)\n",
            "184 ns ± 7.59 ns per loop (mean ± std. dev. of 7 runs, 1000 loops each)\n",
            "321 ns ± 21.9 ns per loop (mean ± std. dev. of 7 runs, 1000 loops each)\n",
            "187 ns ± 13.8 ns per loop (mean ± std. dev. of 7 runs, 1000 loops each)\n",
            "181 ns ± 4.36 ns per loop (mean ± std. dev. of 7 runs, 1000 loops each)\n",
            "196 ns ± 5.9 ns per loop (mean ± std. dev. of 7 runs, 1000 loops each)\n",
            "182 ns ± 5.7 ns per loop (mean ± std. dev. of 7 runs, 1000 loops each)\n",
            "182 ns ± 6.48 ns per loop (mean ± std. dev. of 7 runs, 1000 loops each)\n",
            "186 ns ± 10 ns per loop (mean ± std. dev. of 7 runs, 1000 loops each)\n",
            "197 ns ± 18.1 ns per loop (mean ± std. dev. of 7 runs, 1000 loops each)\n"
          ]
        }
      ]
    },
    {
      "cell_type": "code",
      "source": [
        "sums = [random.randint(1,100) for _ in range(75)]"
      ],
      "metadata": {
        "id": "wT_mmBv5CrAJ"
      },
      "execution_count": 12,
      "outputs": []
    },
    {
      "cell_type": "code",
      "source": [
        "for sum in sums:\n",
        "   %timeit -n 1000 clima.TwoScoreSum(sum)"
      ],
      "metadata": {
        "colab": {
          "base_uri": "https://localhost:8080/"
        },
        "id": "mX92dhpoDBd_",
        "outputId": "29e3fc5f-b4c8-4451-d640-77786d99d74b"
      },
      "execution_count": 13,
      "outputs": [
        {
          "output_type": "stream",
          "name": "stdout",
          "text": [
            "421 ns ± 24.4 ns per loop (mean ± std. dev. of 7 runs, 1000 loops each)\n",
            "618 ns ± 253 ns per loop (mean ± std. dev. of 7 runs, 1000 loops each)\n",
            "399 ns ± 19.1 ns per loop (mean ± std. dev. of 7 runs, 1000 loops each)\n",
            "409 ns ± 5.17 ns per loop (mean ± std. dev. of 7 runs, 1000 loops each)\n",
            "404 ns ± 9.59 ns per loop (mean ± std. dev. of 7 runs, 1000 loops each)\n",
            "396 ns ± 11.4 ns per loop (mean ± std. dev. of 7 runs, 1000 loops each)\n",
            "415 ns ± 10.9 ns per loop (mean ± std. dev. of 7 runs, 1000 loops each)\n",
            "434 ns ± 6.05 ns per loop (mean ± std. dev. of 7 runs, 1000 loops each)\n",
            "409 ns ± 4.14 ns per loop (mean ± std. dev. of 7 runs, 1000 loops each)\n",
            "390 ns ± 5.66 ns per loop (mean ± std. dev. of 7 runs, 1000 loops each)\n",
            "431 ns ± 16.5 ns per loop (mean ± std. dev. of 7 runs, 1000 loops each)\n",
            "430 ns ± 60.6 ns per loop (mean ± std. dev. of 7 runs, 1000 loops each)\n",
            "554 ns ± 77.8 ns per loop (mean ± std. dev. of 7 runs, 1000 loops each)\n",
            "The slowest run took 18.75 times longer than the fastest. This could mean that an intermediate result is being cached.\n",
            "1.64 µs ± 2.38 µs per loop (mean ± std. dev. of 7 runs, 1000 loops each)\n",
            "851 ns ± 162 ns per loop (mean ± std. dev. of 7 runs, 1000 loops each)\n",
            "419 ns ± 27.9 ns per loop (mean ± std. dev. of 7 runs, 1000 loops each)\n",
            "393 ns ± 14.5 ns per loop (mean ± std. dev. of 7 runs, 1000 loops each)\n",
            "431 ns ± 0.963 ns per loop (mean ± std. dev. of 7 runs, 1000 loops each)\n",
            "391 ns ± 10.3 ns per loop (mean ± std. dev. of 7 runs, 1000 loops each)\n",
            "403 ns ± 15.7 ns per loop (mean ± std. dev. of 7 runs, 1000 loops each)\n",
            "401 ns ± 13.4 ns per loop (mean ± std. dev. of 7 runs, 1000 loops each)\n",
            "408 ns ± 4.13 ns per loop (mean ± std. dev. of 7 runs, 1000 loops each)\n",
            "393 ns ± 11.4 ns per loop (mean ± std. dev. of 7 runs, 1000 loops each)\n",
            "406 ns ± 2.28 ns per loop (mean ± std. dev. of 7 runs, 1000 loops each)\n",
            "391 ns ± 11.7 ns per loop (mean ± std. dev. of 7 runs, 1000 loops each)\n",
            "389 ns ± 9.17 ns per loop (mean ± std. dev. of 7 runs, 1000 loops each)\n",
            "422 ns ± 11.9 ns per loop (mean ± std. dev. of 7 runs, 1000 loops each)\n",
            "472 ns ± 96.8 ns per loop (mean ± std. dev. of 7 runs, 1000 loops each)\n",
            "399 ns ± 18.5 ns per loop (mean ± std. dev. of 7 runs, 1000 loops each)\n",
            "411 ns ± 4.75 ns per loop (mean ± std. dev. of 7 runs, 1000 loops each)\n",
            "418 ns ± 11.8 ns per loop (mean ± std. dev. of 7 runs, 1000 loops each)\n",
            "393 ns ± 14.5 ns per loop (mean ± std. dev. of 7 runs, 1000 loops each)\n",
            "415 ns ± 11.5 ns per loop (mean ± std. dev. of 7 runs, 1000 loops each)\n",
            "The slowest run took 12.62 times longer than the fastest. This could mean that an intermediate result is being cached.\n",
            "1.77 µs ± 2.68 µs per loop (mean ± std. dev. of 7 runs, 1000 loops each)\n",
            "753 ns ± 112 ns per loop (mean ± std. dev. of 7 runs, 1000 loops each)\n",
            "399 ns ± 24.7 ns per loop (mean ± std. dev. of 7 runs, 1000 loops each)\n",
            "420 ns ± 15.3 ns per loop (mean ± std. dev. of 7 runs, 1000 loops each)\n",
            "394 ns ± 24.6 ns per loop (mean ± std. dev. of 7 runs, 1000 loops each)\n",
            "404 ns ± 9.21 ns per loop (mean ± std. dev. of 7 runs, 1000 loops each)\n",
            "412 ns ± 13.5 ns per loop (mean ± std. dev. of 7 runs, 1000 loops each)\n",
            "386 ns ± 19.8 ns per loop (mean ± std. dev. of 7 runs, 1000 loops each)\n",
            "408 ns ± 4.12 ns per loop (mean ± std. dev. of 7 runs, 1000 loops each)\n",
            "411 ns ± 14.2 ns per loop (mean ± std. dev. of 7 runs, 1000 loops each)\n",
            "387 ns ± 9.71 ns per loop (mean ± std. dev. of 7 runs, 1000 loops each)\n",
            "398 ns ± 12.3 ns per loop (mean ± std. dev. of 7 runs, 1000 loops each)\n",
            "391 ns ± 15.7 ns per loop (mean ± std. dev. of 7 runs, 1000 loops each)\n",
            "393 ns ± 16.4 ns per loop (mean ± std. dev. of 7 runs, 1000 loops each)\n",
            "407 ns ± 18.7 ns per loop (mean ± std. dev. of 7 runs, 1000 loops each)\n",
            "407 ns ± 2.9 ns per loop (mean ± std. dev. of 7 runs, 1000 loops each)\n",
            "392 ns ± 10.9 ns per loop (mean ± std. dev. of 7 runs, 1000 loops each)\n",
            "403 ns ± 28.3 ns per loop (mean ± std. dev. of 7 runs, 1000 loops each)\n",
            "407 ns ± 16.4 ns per loop (mean ± std. dev. of 7 runs, 1000 loops each)\n",
            "412 ns ± 9.64 ns per loop (mean ± std. dev. of 7 runs, 1000 loops each)\n",
            "407 ns ± 22.1 ns per loop (mean ± std. dev. of 7 runs, 1000 loops each)\n",
            "408 ns ± 5.44 ns per loop (mean ± std. dev. of 7 runs, 1000 loops each)\n",
            "434 ns ± 11.4 ns per loop (mean ± std. dev. of 7 runs, 1000 loops each)\n",
            "403 ns ± 22.2 ns per loop (mean ± std. dev. of 7 runs, 1000 loops each)\n",
            "402 ns ± 13.6 ns per loop (mean ± std. dev. of 7 runs, 1000 loops each)\n",
            "412 ns ± 12.3 ns per loop (mean ± std. dev. of 7 runs, 1000 loops each)\n",
            "410 ns ± 5.1 ns per loop (mean ± std. dev. of 7 runs, 1000 loops each)\n",
            "390 ns ± 9.44 ns per loop (mean ± std. dev. of 7 runs, 1000 loops each)\n",
            "405 ns ± 17.8 ns per loop (mean ± std. dev. of 7 runs, 1000 loops each)\n",
            "431 ns ± 8.08 ns per loop (mean ± std. dev. of 7 runs, 1000 loops each)\n",
            "409 ns ± 7.85 ns per loop (mean ± std. dev. of 7 runs, 1000 loops each)\n",
            "428 ns ± 24.3 ns per loop (mean ± std. dev. of 7 runs, 1000 loops each)\n",
            "406 ns ± 11.9 ns per loop (mean ± std. dev. of 7 runs, 1000 loops each)\n",
            "403 ns ± 12.8 ns per loop (mean ± std. dev. of 7 runs, 1000 loops each)\n",
            "400 ns ± 13.3 ns per loop (mean ± std. dev. of 7 runs, 1000 loops each)\n",
            "421 ns ± 15.1 ns per loop (mean ± std. dev. of 7 runs, 1000 loops each)\n",
            "410 ns ± 6.63 ns per loop (mean ± std. dev. of 7 runs, 1000 loops each)\n",
            "418 ns ± 11.8 ns per loop (mean ± std. dev. of 7 runs, 1000 loops each)\n",
            "407 ns ± 31.7 ns per loop (mean ± std. dev. of 7 runs, 1000 loops each)\n",
            "475 ns ± 122 ns per loop (mean ± std. dev. of 7 runs, 1000 loops each)\n",
            "441 ns ± 14.8 ns per loop (mean ± std. dev. of 7 runs, 1000 loops each)\n",
            "401 ns ± 10.7 ns per loop (mean ± std. dev. of 7 runs, 1000 loops each)\n"
          ]
        }
      ]
    },
    {
      "cell_type": "code",
      "source": [
        "for sum in sums:\n",
        "   %timeit -n 1000 clima.TwoScoreSum_fast(sum)"
      ],
      "metadata": {
        "colab": {
          "base_uri": "https://localhost:8080/"
        },
        "id": "Clg5W2pgDNLz",
        "outputId": "74a56e9a-50ed-4d54-8daf-39d88a5c415f"
      },
      "execution_count": 14,
      "outputs": [
        {
          "output_type": "stream",
          "name": "stdout",
          "text": [
            "625 ns ± 234 ns per loop (mean ± std. dev. of 7 runs, 1000 loops each)\n",
            "540 ns ± 133 ns per loop (mean ± std. dev. of 7 runs, 1000 loops each)\n",
            "540 ns ± 138 ns per loop (mean ± std. dev. of 7 runs, 1000 loops each)\n",
            "515 ns ± 112 ns per loop (mean ± std. dev. of 7 runs, 1000 loops each)\n",
            "439 ns ± 5.65 ns per loop (mean ± std. dev. of 7 runs, 1000 loops each)\n",
            "443 ns ± 13.1 ns per loop (mean ± std. dev. of 7 runs, 1000 loops each)\n",
            "440 ns ± 7.43 ns per loop (mean ± std. dev. of 7 runs, 1000 loops each)\n",
            "436 ns ± 4.58 ns per loop (mean ± std. dev. of 7 runs, 1000 loops each)\n",
            "435 ns ± 4.7 ns per loop (mean ± std. dev. of 7 runs, 1000 loops each)\n",
            "529 ns ± 111 ns per loop (mean ± std. dev. of 7 runs, 1000 loops each)\n",
            "442 ns ± 12.5 ns per loop (mean ± std. dev. of 7 runs, 1000 loops each)\n",
            "481 ns ± 13.2 ns per loop (mean ± std. dev. of 7 runs, 1000 loops each)\n",
            "576 ns ± 129 ns per loop (mean ± std. dev. of 7 runs, 1000 loops each)\n",
            "440 ns ± 12 ns per loop (mean ± std. dev. of 7 runs, 1000 loops each)\n",
            "434 ns ± 1.27 ns per loop (mean ± std. dev. of 7 runs, 1000 loops each)\n",
            "447 ns ± 11.4 ns per loop (mean ± std. dev. of 7 runs, 1000 loops each)\n",
            "440 ns ± 15.5 ns per loop (mean ± std. dev. of 7 runs, 1000 loops each)\n",
            "435 ns ± 8.14 ns per loop (mean ± std. dev. of 7 runs, 1000 loops each)\n",
            "563 ns ± 161 ns per loop (mean ± std. dev. of 7 runs, 1000 loops each)\n",
            "437 ns ± 7.24 ns per loop (mean ± std. dev. of 7 runs, 1000 loops each)\n",
            "460 ns ± 31.4 ns per loop (mean ± std. dev. of 7 runs, 1000 loops each)\n",
            "433 ns ± 6.6 ns per loop (mean ± std. dev. of 7 runs, 1000 loops each)\n",
            "434 ns ± 4.82 ns per loop (mean ± std. dev. of 7 runs, 1000 loops each)\n",
            "437 ns ± 10.1 ns per loop (mean ± std. dev. of 7 runs, 1000 loops each)\n",
            "439 ns ± 8.18 ns per loop (mean ± std. dev. of 7 runs, 1000 loops each)\n",
            "436 ns ± 4.47 ns per loop (mean ± std. dev. of 7 runs, 1000 loops each)\n",
            "431 ns ± 15.1 ns per loop (mean ± std. dev. of 7 runs, 1000 loops each)\n",
            "446 ns ± 31.8 ns per loop (mean ± std. dev. of 7 runs, 1000 loops each)\n",
            "466 ns ± 34.2 ns per loop (mean ± std. dev. of 7 runs, 1000 loops each)\n",
            "441 ns ± 3.86 ns per loop (mean ± std. dev. of 7 runs, 1000 loops each)\n",
            "416 ns ± 4.99 ns per loop (mean ± std. dev. of 7 runs, 1000 loops each)\n",
            "440 ns ± 6.48 ns per loop (mean ± std. dev. of 7 runs, 1000 loops each)\n",
            "438 ns ± 3.39 ns per loop (mean ± std. dev. of 7 runs, 1000 loops each)\n",
            "447 ns ± 17 ns per loop (mean ± std. dev. of 7 runs, 1000 loops each)\n",
            "437 ns ± 5.56 ns per loop (mean ± std. dev. of 7 runs, 1000 loops each)\n",
            "438 ns ± 7.01 ns per loop (mean ± std. dev. of 7 runs, 1000 loops each)\n",
            "462 ns ± 26.1 ns per loop (mean ± std. dev. of 7 runs, 1000 loops each)\n",
            "437 ns ± 5.33 ns per loop (mean ± std. dev. of 7 runs, 1000 loops each)\n",
            "438 ns ± 6.61 ns per loop (mean ± std. dev. of 7 runs, 1000 loops each)\n",
            "438 ns ± 5.05 ns per loop (mean ± std. dev. of 7 runs, 1000 loops each)\n",
            "528 ns ± 175 ns per loop (mean ± std. dev. of 7 runs, 1000 loops each)\n",
            "448 ns ± 14.8 ns per loop (mean ± std. dev. of 7 runs, 1000 loops each)\n",
            "424 ns ± 12.9 ns per loop (mean ± std. dev. of 7 runs, 1000 loops each)\n",
            "441 ns ± 10.6 ns per loop (mean ± std. dev. of 7 runs, 1000 loops each)\n",
            "437 ns ± 8.23 ns per loop (mean ± std. dev. of 7 runs, 1000 loops each)\n",
            "436 ns ± 7.14 ns per loop (mean ± std. dev. of 7 runs, 1000 loops each)\n",
            "437 ns ± 4.15 ns per loop (mean ± std. dev. of 7 runs, 1000 loops each)\n",
            "438 ns ± 9.92 ns per loop (mean ± std. dev. of 7 runs, 1000 loops each)\n",
            "416 ns ± 5.35 ns per loop (mean ± std. dev. of 7 runs, 1000 loops each)\n",
            "435 ns ± 6.1 ns per loop (mean ± std. dev. of 7 runs, 1000 loops each)\n",
            "480 ns ± 89.6 ns per loop (mean ± std. dev. of 7 runs, 1000 loops each)\n",
            "454 ns ± 36 ns per loop (mean ± std. dev. of 7 runs, 1000 loops each)\n",
            "438 ns ± 10.7 ns per loop (mean ± std. dev. of 7 runs, 1000 loops each)\n",
            "449 ns ± 34.1 ns per loop (mean ± std. dev. of 7 runs, 1000 loops each)\n",
            "435 ns ± 5.16 ns per loop (mean ± std. dev. of 7 runs, 1000 loops each)\n",
            "436 ns ± 5.51 ns per loop (mean ± std. dev. of 7 runs, 1000 loops each)\n",
            "556 ns ± 129 ns per loop (mean ± std. dev. of 7 runs, 1000 loops each)\n",
            "447 ns ± 17.7 ns per loop (mean ± std. dev. of 7 runs, 1000 loops each)\n",
            "439 ns ± 11.1 ns per loop (mean ± std. dev. of 7 runs, 1000 loops each)\n",
            "440 ns ± 10.8 ns per loop (mean ± std. dev. of 7 runs, 1000 loops each)\n",
            "438 ns ± 9.08 ns per loop (mean ± std. dev. of 7 runs, 1000 loops each)\n",
            "436 ns ± 5.57 ns per loop (mean ± std. dev. of 7 runs, 1000 loops each)\n",
            "439 ns ± 10.2 ns per loop (mean ± std. dev. of 7 runs, 1000 loops each)\n",
            "439 ns ± 2.92 ns per loop (mean ± std. dev. of 7 runs, 1000 loops each)\n",
            "437 ns ± 4.73 ns per loop (mean ± std. dev. of 7 runs, 1000 loops each)\n",
            "437 ns ± 8.17 ns per loop (mean ± std. dev. of 7 runs, 1000 loops each)\n",
            "435 ns ± 7.58 ns per loop (mean ± std. dev. of 7 runs, 1000 loops each)\n",
            "467 ns ± 50.1 ns per loop (mean ± std. dev. of 7 runs, 1000 loops each)\n",
            "451 ns ± 14.3 ns per loop (mean ± std. dev. of 7 runs, 1000 loops each)\n",
            "The slowest run took 7.30 times longer than the fastest. This could mean that an intermediate result is being cached.\n",
            "833 ns ± 957 ns per loop (mean ± std. dev. of 7 runs, 1000 loops each)\n",
            "445 ns ± 17.6 ns per loop (mean ± std. dev. of 7 runs, 1000 loops each)\n",
            "461 ns ± 36.3 ns per loop (mean ± std. dev. of 7 runs, 1000 loops each)\n",
            "438 ns ± 6.21 ns per loop (mean ± std. dev. of 7 runs, 1000 loops each)\n",
            "441 ns ± 7.58 ns per loop (mean ± std. dev. of 7 runs, 1000 loops each)\n",
            "436 ns ± 3.72 ns per loop (mean ± std. dev. of 7 runs, 1000 loops each)\n"
          ]
        }
      ]
    },
    {
      "cell_type": "code",
      "source": [
        "from google.colab import drive\n",
        "drive.mount('/content/drive')"
      ],
      "metadata": {
        "colab": {
          "base_uri": "https://localhost:8080/"
        },
        "id": "d8vkywittP3g",
        "outputId": "4b9edc1d-1d07-4d8c-f64c-8e80f686f765"
      },
      "execution_count": 17,
      "outputs": [
        {
          "output_type": "stream",
          "name": "stdout",
          "text": [
            "Drive already mounted at /content/drive; to attempt to forcibly remount, call drive.mount(\"/content/drive\", force_remount=True).\n"
          ]
        }
      ]
    }
  ]
}